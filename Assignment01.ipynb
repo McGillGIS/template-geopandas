{
 "cells": [
  {
   "cell_type": "markdown",
   "id": "90f22b60",
   "metadata": {},
   "source": [
    "## Assignment 1\n",
    "\n",
    "To start you off, I have provide a cell of code to install any missing modules."
   ]
  },
  {
   "cell_type": "code",
   "execution_count": null,
   "id": "e7583db7",
   "metadata": {},
   "outputs": [],
   "source": [
    "# These will do the heavy lifting\n",
    "# Make sure to install the modules if they don't already exist\n",
    "import sys\n",
    "!{sys.executable} -m pip install geopandas\n",
    "!{sys.executable} -m pip install shapely\n",
    "!{sys.executable} -m pip install folium\n"
   ]
  }
 ],
 "metadata": {
  "kernelspec": {
   "display_name": "Python 3",
   "language": "python",
   "name": "python3"
  },
  "language_info": {
   "codemirror_mode": {
    "name": "ipython",
    "version": 3
   },
   "file_extension": ".py",
   "mimetype": "text/x-python",
   "name": "python",
   "nbconvert_exporter": "python",
   "pygments_lexer": "ipython3",
   "version": "3.8.10"
  }
 },
 "nbformat": 4,
 "nbformat_minor": 5
}
