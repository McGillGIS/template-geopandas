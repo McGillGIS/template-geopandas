{
 "cells": [
  {
   "cell_type": "markdown",
   "id": "c25b4465",
   "metadata": {},
   "source": [
    "# *k*-anonymity\n",
    "\n",
    "\n",
    "*Author: Grant McKenzie [grant.mckenzie@mcgill.ca | https://grantmckenzie.com]*\n",
    "\n",
    "This tutorial presents an introduction to (spatial) k-anonymity, a data anonymization technique that is used to protect individuals' privacy in a dataset.  Through this tutorial we will explore both non-spatial and spatial k-anonymity."
   ]
  },
  {
   "cell_type": "markdown",
   "id": "90f22b60",
   "metadata": {},
   "source": [
    "## Modules\n",
    "\n",
    "First, we require a number of python modules in order to run this tutorial.  We will use `GeoPandas` for handling all of our geospatial objects, `Shapely` for our geometries, and `Folium` for interactive geovisualization."
   ]
  },
  {
   "cell_type": "code",
   "execution_count": null,
   "id": "e7583db7",
   "metadata": {},
   "outputs": [],
   "source": [
    "# These will do the heavy lifting\n",
    "# Make sure to install the modules if they don't already exist\n",
    "import sys\n",
    "!{sys.executable} -m pip install geopandas\n",
    "!{sys.executable} -m pip install shapely\n",
    "!{sys.executable} -m pip install folium\n",
    "import geopandas as gpd\n",
    "import shapely as shp\n",
    "import folium\n",
    "\n",
    "# These are important for a few small tasks\n",
    "import pandas as pd"
   ]
  }
 ],
 "metadata": {
  "kernelspec": {
   "display_name": "Python 3",
   "language": "python",
   "name": "python3"
  },
  "language_info": {
   "codemirror_mode": {
    "name": "ipython",
    "version": 3
   },
   "file_extension": ".py",
   "mimetype": "text/x-python",
   "name": "python",
   "nbconvert_exporter": "python",
   "pygments_lexer": "ipython3",
   "version": "3.8.10"
  }
 },
 "nbformat": 4,
 "nbformat_minor": 5
}
